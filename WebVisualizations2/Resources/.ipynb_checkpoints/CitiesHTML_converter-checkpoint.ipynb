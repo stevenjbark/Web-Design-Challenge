{
 "cells": [
  {
   "cell_type": "markdown",
   "metadata": {},
   "source": [
    "## Import pandas and numpy in case of any requirements for processing data! "
   ]
  },
  {
   "cell_type": "code",
   "execution_count": 2,
   "metadata": {},
   "outputs": [],
   "source": [
    "import pandas as pd\n",
    "import numpy as np"
   ]
  },
  {
   "cell_type": "markdown",
   "metadata": {},
   "source": [
    "## Use pandas and open the .csv file cities_weather_data_cleaned.csv. Check dataframe."
   ]
  },
  {
   "cell_type": "code",
   "execution_count": 3,
   "metadata": {},
   "outputs": [],
   "source": [
    "cities_data = pd.read_csv(\"cities_weather_data_cleaned.csv\")"
   ]
  },
  {
   "cell_type": "code",
   "execution_count": 4,
   "metadata": {},
   "outputs": [
    {
     "data": {
      "text/html": [
       "<div>\n",
       "<style scoped>\n",
       "    .dataframe tbody tr th:only-of-type {\n",
       "        vertical-align: middle;\n",
       "    }\n",
       "\n",
       "    .dataframe tbody tr th {\n",
       "        vertical-align: top;\n",
       "    }\n",
       "\n",
       "    .dataframe thead th {\n",
       "        text-align: right;\n",
       "    }\n",
       "</style>\n",
       "<table border=\"1\" class=\"dataframe\">\n",
       "  <thead>\n",
       "    <tr style=\"text-align: right;\">\n",
       "      <th></th>\n",
       "      <th>City</th>\n",
       "      <th>Cloudiness</th>\n",
       "      <th>Country</th>\n",
       "      <th>Date</th>\n",
       "      <th>Humidity</th>\n",
       "      <th>Lat</th>\n",
       "      <th>Lng</th>\n",
       "      <th>Max Temp</th>\n",
       "      <th>Wind Speed</th>\n",
       "    </tr>\n",
       "  </thead>\n",
       "  <tbody>\n",
       "    <tr>\n",
       "      <th>0</th>\n",
       "      <td>mar del plata</td>\n",
       "      <td>0.0</td>\n",
       "      <td>AR</td>\n",
       "      <td>1.573487e+09</td>\n",
       "      <td>45.0</td>\n",
       "      <td>-46.43</td>\n",
       "      <td>-67.52</td>\n",
       "      <td>18.06</td>\n",
       "      <td>2.71</td>\n",
       "    </tr>\n",
       "    <tr>\n",
       "      <th>1</th>\n",
       "      <td>tiksi</td>\n",
       "      <td>100.0</td>\n",
       "      <td>RU</td>\n",
       "      <td>1.573487e+09</td>\n",
       "      <td>91.0</td>\n",
       "      <td>71.64</td>\n",
       "      <td>128.87</td>\n",
       "      <td>-18.45</td>\n",
       "      <td>2.49</td>\n",
       "    </tr>\n",
       "    <tr>\n",
       "      <th>2</th>\n",
       "      <td>hermanus</td>\n",
       "      <td>100.0</td>\n",
       "      <td>ZA</td>\n",
       "      <td>1.573487e+09</td>\n",
       "      <td>81.0</td>\n",
       "      <td>-34.42</td>\n",
       "      <td>19.24</td>\n",
       "      <td>21.11</td>\n",
       "      <td>2.68</td>\n",
       "    </tr>\n",
       "    <tr>\n",
       "      <th>3</th>\n",
       "      <td>qaanaaq</td>\n",
       "      <td>0.0</td>\n",
       "      <td>GL</td>\n",
       "      <td>1.573487e+09</td>\n",
       "      <td>52.0</td>\n",
       "      <td>77.48</td>\n",
       "      <td>-69.36</td>\n",
       "      <td>-15.00</td>\n",
       "      <td>2.25</td>\n",
       "    </tr>\n",
       "    <tr>\n",
       "      <th>4</th>\n",
       "      <td>bredasdorp</td>\n",
       "      <td>79.0</td>\n",
       "      <td>ZA</td>\n",
       "      <td>1.573487e+09</td>\n",
       "      <td>77.0</td>\n",
       "      <td>-34.53</td>\n",
       "      <td>20.04</td>\n",
       "      <td>21.11</td>\n",
       "      <td>8.20</td>\n",
       "    </tr>\n",
       "  </tbody>\n",
       "</table>\n",
       "</div>"
      ],
      "text/plain": [
       "            City  Cloudiness Country          Date  Humidity    Lat     Lng  \\\n",
       "0  mar del plata         0.0      AR  1.573487e+09      45.0 -46.43  -67.52   \n",
       "1          tiksi       100.0      RU  1.573487e+09      91.0  71.64  128.87   \n",
       "2       hermanus       100.0      ZA  1.573487e+09      81.0 -34.42   19.24   \n",
       "3        qaanaaq         0.0      GL  1.573487e+09      52.0  77.48  -69.36   \n",
       "4     bredasdorp        79.0      ZA  1.573487e+09      77.0 -34.53   20.04   \n",
       "\n",
       "   Max Temp  Wind Speed  \n",
       "0     18.06        2.71  \n",
       "1    -18.45        2.49  \n",
       "2     21.11        2.68  \n",
       "3    -15.00        2.25  \n",
       "4     21.11        8.20  "
      ]
     },
     "execution_count": 4,
     "metadata": {},
     "output_type": "execute_result"
    }
   ],
   "source": [
    "cities_data.head()"
   ]
  },
  {
   "cell_type": "markdown",
   "metadata": {},
   "source": [
    "## Date is in scientific notation. This date stamp is necessary for defining actual date, so must have actual number. Tried rounding and other methods, but were not consistently working. Converted Date to integer list and appended to dataframe."
   ]
  },
  {
   "cell_type": "code",
   "execution_count": 19,
   "metadata": {},
   "outputs": [],
   "source": [
    "datestamp = []\n",
    "for index, row in cities_data.iterrows():\n",
    "    datestamp.append(int(row[3]))\n",
    "\n",
    "cities_data['DateStamp'] = datestamp"
   ]
  },
  {
   "cell_type": "code",
   "execution_count": 20,
   "metadata": {},
   "outputs": [
    {
     "data": {
      "text/html": [
       "<div>\n",
       "<style scoped>\n",
       "    .dataframe tbody tr th:only-of-type {\n",
       "        vertical-align: middle;\n",
       "    }\n",
       "\n",
       "    .dataframe tbody tr th {\n",
       "        vertical-align: top;\n",
       "    }\n",
       "\n",
       "    .dataframe thead th {\n",
       "        text-align: right;\n",
       "    }\n",
       "</style>\n",
       "<table border=\"1\" class=\"dataframe\">\n",
       "  <thead>\n",
       "    <tr style=\"text-align: right;\">\n",
       "      <th></th>\n",
       "      <th>City</th>\n",
       "      <th>Cloudiness</th>\n",
       "      <th>Country</th>\n",
       "      <th>Date</th>\n",
       "      <th>Humidity</th>\n",
       "      <th>Lat</th>\n",
       "      <th>Lng</th>\n",
       "      <th>Max Temp</th>\n",
       "      <th>Wind Speed</th>\n",
       "      <th>DateStamp</th>\n",
       "    </tr>\n",
       "  </thead>\n",
       "  <tbody>\n",
       "    <tr>\n",
       "      <th>0</th>\n",
       "      <td>mar del plata</td>\n",
       "      <td>0.0</td>\n",
       "      <td>AR</td>\n",
       "      <td>1.573487e+09</td>\n",
       "      <td>45.0</td>\n",
       "      <td>-46.43</td>\n",
       "      <td>-67.52</td>\n",
       "      <td>18.06</td>\n",
       "      <td>2.71</td>\n",
       "      <td>1573486765</td>\n",
       "    </tr>\n",
       "    <tr>\n",
       "      <th>1</th>\n",
       "      <td>tiksi</td>\n",
       "      <td>100.0</td>\n",
       "      <td>RU</td>\n",
       "      <td>1.573487e+09</td>\n",
       "      <td>91.0</td>\n",
       "      <td>71.64</td>\n",
       "      <td>128.87</td>\n",
       "      <td>-18.45</td>\n",
       "      <td>2.49</td>\n",
       "      <td>1573486766</td>\n",
       "    </tr>\n",
       "    <tr>\n",
       "      <th>2</th>\n",
       "      <td>hermanus</td>\n",
       "      <td>100.0</td>\n",
       "      <td>ZA</td>\n",
       "      <td>1.573487e+09</td>\n",
       "      <td>81.0</td>\n",
       "      <td>-34.42</td>\n",
       "      <td>19.24</td>\n",
       "      <td>21.11</td>\n",
       "      <td>2.68</td>\n",
       "      <td>1573486766</td>\n",
       "    </tr>\n",
       "    <tr>\n",
       "      <th>3</th>\n",
       "      <td>qaanaaq</td>\n",
       "      <td>0.0</td>\n",
       "      <td>GL</td>\n",
       "      <td>1.573487e+09</td>\n",
       "      <td>52.0</td>\n",
       "      <td>77.48</td>\n",
       "      <td>-69.36</td>\n",
       "      <td>-15.00</td>\n",
       "      <td>2.25</td>\n",
       "      <td>1573486766</td>\n",
       "    </tr>\n",
       "    <tr>\n",
       "      <th>4</th>\n",
       "      <td>bredasdorp</td>\n",
       "      <td>79.0</td>\n",
       "      <td>ZA</td>\n",
       "      <td>1.573487e+09</td>\n",
       "      <td>77.0</td>\n",
       "      <td>-34.53</td>\n",
       "      <td>20.04</td>\n",
       "      <td>21.11</td>\n",
       "      <td>8.20</td>\n",
       "      <td>1573486766</td>\n",
       "    </tr>\n",
       "  </tbody>\n",
       "</table>\n",
       "</div>"
      ],
      "text/plain": [
       "            City  Cloudiness Country          Date  Humidity    Lat     Lng  \\\n",
       "0  mar del plata         0.0      AR  1.573487e+09      45.0 -46.43  -67.52   \n",
       "1          tiksi       100.0      RU  1.573487e+09      91.0  71.64  128.87   \n",
       "2       hermanus       100.0      ZA  1.573487e+09      81.0 -34.42   19.24   \n",
       "3        qaanaaq         0.0      GL  1.573487e+09      52.0  77.48  -69.36   \n",
       "4     bredasdorp        79.0      ZA  1.573487e+09      77.0 -34.53   20.04   \n",
       "\n",
       "   Max Temp  Wind Speed   DateStamp  \n",
       "0     18.06        2.71  1573486765  \n",
       "1    -18.45        2.49  1573486766  \n",
       "2     21.11        2.68  1573486766  \n",
       "3    -15.00        2.25  1573486766  \n",
       "4     21.11        8.20  1573486766  "
      ]
     },
     "execution_count": 20,
     "metadata": {},
     "output_type": "execute_result"
    }
   ],
   "source": [
    "cities_data.head()"
   ]
  },
  {
   "cell_type": "markdown",
   "metadata": {},
   "source": [
    "## Remove Date, then convert dataframe into html format for visualization in webpages."
   ]
  },
  {
   "cell_type": "code",
   "execution_count": 21,
   "metadata": {},
   "outputs": [],
   "source": [
    "cities_cleaned = cities_data[['City', 'Cloudiness', 'Country', 'Humidity', 'Lat', 'Lng', 'Max Temp', 'Wind Speed', 'DateStamp']]"
   ]
  },
  {
   "cell_type": "code",
   "execution_count": 22,
   "metadata": {},
   "outputs": [],
   "source": [
    "cities_cleaned.to_html(\"cities_cleaned.html\")"
   ]
  },
  {
   "cell_type": "code",
   "execution_count": null,
   "metadata": {},
   "outputs": [],
   "source": []
  }
 ],
 "metadata": {
  "kernelspec": {
   "display_name": "Python 3",
   "language": "python",
   "name": "python3"
  },
  "language_info": {
   "codemirror_mode": {
    "name": "ipython",
    "version": 3
   },
   "file_extension": ".py",
   "mimetype": "text/x-python",
   "name": "python",
   "nbconvert_exporter": "python",
   "pygments_lexer": "ipython3",
   "version": "3.7.3"
  }
 },
 "nbformat": 4,
 "nbformat_minor": 2
}
